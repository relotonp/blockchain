{
 "cells": [
  {
   "cell_type": "code",
   "execution_count": 12,
   "metadata": {
    "collapsed": true
   },
   "outputs": [],
   "source": [
    "# Import the modules we need\n",
    "from IPython.core.debugger import set_trace\n",
    "\n",
    "from Crypto.PublicKey import ECC\n",
    "from Crypto.Signature import DSS\n",
    "from Crypto.Hash import SHA256\n",
    "import binascii\n",
    "from time import time\n",
    "import random\n",
    "import  jdc\n",
    "\n",
    "from collections import OrderedDict\n",
    "import hashlib\n",
    "import json"
   ]
  },
  {
   "cell_type": "markdown",
   "metadata": {},
   "source": [
    "## 1. Wallet\n",
    "\n",
    "Zusatzinfo: Es ist wichtig die Intuition hinter der asymetrischen Kryptografie zu verstehen. Wer sich darunter nichts vorstellen kann und in der Vorlesung nicht folgen konnte, dem helfen folgende Videos vielleicht weiter:\n",
    "* [Private Key / Public Key Kryptografie allg.](https://www.youtube.com/watch?v=GSIDS_lvRv4)\n",
    "* [Eliptic Curve](https://www.youtube.com/watch?v=NF1pwjL9-DE)\n",
    "\n",
    "\n",
    "Wallets haben zwei wesentliche Funktionen: \n",
    "1. Guthabenverwaltung \n",
    "2. Transaktionsdurchführung\n",
    "\n",
    "Die Basis für beide Funktionen stellt der `Private Key` dar. Dieser entspricht einfach einem zufällig erzeugten (sehr langen) Passwort in einem bestimmten Format. Vom `Private Key` kann sowohl der `Public Key` abgeleitet, als auch Transaktionen signiert werden (wird später eingeführt)."
   ]
  },
  {
   "cell_type": "code",
   "execution_count": 3,
   "metadata": {
    "collapsed": true
   },
   "outputs": [],
   "source": [
    "class Wallet:\n",
    "    # Basic Constructor\n",
    "    def __init__(self):\n",
    "        keypair = self.generate_keypair()\n",
    "        self.private_key = keypair['private_key']\n",
    "        self.public_key = keypair['public_key']\n",
    "    \n",
    "    def generate_keypair(self):\n",
    "        # Generate the private key (in here the randomness takes place)\n",
    "        private_key = ECC.generate(curve='P-256')\n",
    "        # We return a dictionary with private and public key\n",
    "        keypair = {\n",
    "        'private_key': binascii.hexlify(private_key.export_key(format='DER')).decode('utf8'),\n",
    "        'public_key': binascii.hexlify(private_key.public_key().export_key(format='DER')).decode('utf8')\n",
    "        }\n",
    "        return keypair"
   ]
  },
  {
   "cell_type": "code",
   "execution_count": 4,
   "metadata": {},
   "outputs": [
    {
     "name": "stdout",
     "output_type": "stream",
     "text": [
      "Alice's Wallet:\n",
      "308187020100301306072a8648ce3d020106082a8648ce3d030107046d306b02010104201890ebbcd1506a4db674800b87639d45b831ede0638a93fdb0c132c4056a0428a144034200044c75d5dbf799a85c0888752229a73ad15aec0bcddcd770a8c8d1e785f4cdbeec163828b09255d8d9560c526ef2d9c143f42da40e1ba8d5f6d72fa51fcb2b58b7\n",
      "\n",
      "\n",
      "3059301306072a8648ce3d020106082a8648ce3d030107034200044c75d5dbf799a85c0888752229a73ad15aec0bcddcd770a8c8d1e785f4cdbeec163828b09255d8d9560c526ef2d9c143f42da40e1ba8d5f6d72fa51fcb2b58b7\n",
      "Bob's Wallet:\n",
      "308187020100301306072a8648ce3d020106082a8648ce3d030107046d306b02010104204484d7d008d4f4b924203a428c39a289a35c582a7abfb78ec96386f4ab475f68a14403420004a212c875e1f4a72ea51fb9a191d193f202f3e3a59f9bf817df3e427f826133328ea7d13c55ae154643fb3dfaf390472932e0b02143b2865027a013e70180d5d9\n",
      "\n",
      "\n",
      "3059301306072a8648ce3d020106082a8648ce3d03010703420004a212c875e1f4a72ea51fb9a191d193f202f3e3a59f9bf817df3e427f826133328ea7d13c55ae154643fb3dfaf390472932e0b02143b2865027a013e70180d5d9\n"
     ]
    }
   ],
   "source": [
    "# Testing it:\n",
    "\n",
    "wallet_alice = Wallet()\n",
    "wallet_bob = Wallet()\n",
    "\n",
    "print(\"Alice's Wallet:\")\n",
    "print(wallet_alice.private_key)\n",
    "print('\\n')\n",
    "print(wallet_alice.public_key)\n",
    "print(\"Bob's Wallet:\")\n",
    "print(wallet_bob.private_key)\n",
    "print('\\n')\n",
    "print(wallet_bob.public_key)"
   ]
  },
  {
   "cell_type": "markdown",
   "metadata": {},
   "source": [
    "#### Wallet zu einem bestimmten Private Key\n",
    "Wir können die Klasse nun so erweitern, dass wir für den Fall eines schon existierenden `Private Key` ebenfalls eine Wallet erzeugt werden kann. Beachte, dass die `ECC.import_key()` Funktion immer einen binary Input benötigt, wir speichern die Keys aber in der Regel im hexadecimalen Format als String ab. Deshalb is die Konvertierung durch binascii.unhexlify() notwendig. D.h. der `private_key_str` wird bei uns immer im hexadecimalen Format als String dem Wallet Konstruktor übergeben."
   ]
  },
  {
   "cell_type": "code",
   "execution_count": 5,
   "metadata": {
    "collapsed": true
   },
   "outputs": [],
   "source": [
    "class Wallet:\n",
    "    def __init__(self, private_key_str = None):\n",
    "        keypair = self.generate_keypair(private_key_str)\n",
    "        self.private_key = keypair['private_key']\n",
    "        self.public_key = keypair['public_key']\n",
    "        \n",
    "    \n",
    "    def generate_keypair(self,private_key_str):\n",
    "        # If this is a 'new' wallet, i.e. no private_key_str has been given to the constructor\n",
    "        # --> Create a private key\n",
    "        if private_key_str is None:\n",
    "            # Generate the private key (in here the randomness takes place)\n",
    "            private_key = ECC.generate(curve='P-256')\n",
    "        else:\n",
    "            # In case this is a wallet for a specific private_key\n",
    "            # read the private key in string format.\n",
    "            # binascii.unhexlify(x) converts x which is in hexadecimal format into a binary format\n",
    "            private_key = ECC.import_key(binascii.unhexlify(private_key_str))\n",
    "\n",
    "        # Returns a dictionary with private and public key\n",
    "        keypair = {\n",
    "        'private_key': binascii.hexlify(private_key.export_key(format='DER')).decode('utf8'),\n",
    "        'public_key': binascii.hexlify(private_key.public_key().export_key(format='DER')).decode('utf8')\n",
    "        }\n",
    "        return keypair"
   ]
  },
  {
   "cell_type": "code",
   "execution_count": 6,
   "metadata": {},
   "outputs": [
    {
     "name": "stdout",
     "output_type": "stream",
     "text": [
      "Both wallets belong to Alice!\n",
      "The public keys of both wallets are equal.\n"
     ]
    }
   ],
   "source": [
    "# Testing it:\n",
    "\n",
    "private_key_alice_str = wallet_alice.private_key\n",
    "\n",
    "wallet_allice_2 = Wallet(private_key_alice_str)\n",
    "\n",
    "if wallet_allice_2.private_key == wallet_alice.private_key:\n",
    "    print('Both wallets belong to Alice!')\n",
    "    \n",
    "if wallet_allice_2.public_key == wallet_alice.public_key:\n",
    "    print('The public keys of both wallets are equal.')"
   ]
  },
  {
   "cell_type": "markdown",
   "metadata": {},
   "source": [
    "## 2. Transaktionen\n",
    "\n",
    "Eine Transaktion besteht fundamental aus Inputs und Outputs. Da ein Input letztlich nichts anderes als eine Referenz auf einen zuvor erzeugten Output ist, genügt es ausschließlich die `TransactionOutput` Klasse zu definieren. (Die konkrete Gestaltung der `Transaction` Klasse wird später behandelt, nachdem die `TransactionOutput` Klasse beschrieben wurde.)\n",
    "\n",
    "#### Transaction Output\n",
    "Die grundlegenden Bausteine unserer Währung sind *Transaction Outputs*. Noch nicht ausgegegebene *Transaction Outputs* (kurz auch *UTXOs*) definieren die Geldmenge im System. D.h. die Summe aller *UTXOs* zu einem Zeitpunkt entspricht der gesamten Menge an verfügbaren *Fed Coins* (kurz FC) zu diesem Zeitpunkt. Ein Transaktionsinput ist einfach eine Referenz (per ID) auf einen noch nicht ausgegebenen *Transaction Output*, d.h. Input und Output können letztlich durch die selbe Klasse modelliert werden. Wir sprechen im Folgenden immer von *Transaction Output*, haben aber im gleichzeitig im Hinterkopf, dass ein Input letztlich nur eine Referenz auf einen *Transaction Output* ist. Ein *Transaction Output* soll folgenden Informationen beinhalten:\n",
    "\n",
    "1. Zeitstempel\n",
    "2. Besitzer/Empfänger\n",
    "3. Wert\n",
    "4. Id\n",
    "\n",
    "Damit ein *Transaction Output* eindeutig ist (theoretisch könnte zweimal genau der gleiche Output zum gleichen Zeitpunkt generiert werden - praktisch aber sehr unwahrscheinlich, dass dieser Fall eintritt), fügen wir noch ein Feld mit einem Zufallswert hinzu.\n",
    "\n",
    "#### Hash eines TransactionOutputs\n",
    "\n",
    "Zusatzinfo: Die genaue Funktionsweise des SH-Algorithmus, den wir zum hashen verdwenden, wird in diesem [video](https://www.youtube.com/watch?v=DMtFhACPnTY) erklärt.\n",
    "\n",
    "Wir wollen, dass jeder *Transaction Output* eine eindeutige ID hat die an dessen Inhalt gekoppelt ist. D.h. wenn sich der Inhalt verändert, soll sich auch die ID verändern. Zusätzlich soll es unmöglich sein, durch die ID auf den Inhalt schließen zu können. Hierzu verwenden wir eine Hashfunktion. Die Hashfunktion benötigt als Input einen beliebig langen `String` und gibt einen Hash mit festgelegter Länge als Output zurück. Weil es nicht trivial ist ein generisches Pythonobjekt direkt in einen `String` umzuwandeln, gehen wir über den Umweg eines sogenannten OrderedDictionary's (`OrderedDict`). Aus jedem `OrderedDict` kann einfach ein String erzeugt werden (z.B. im `json` Format). D.h. um den Hash eines `TransactionOutput` Objekts zu erzeugen, müssen wir das Objekt\n",
    "1. In ein `OrderedDict` umwandeln, \n",
    "2. Das `OrderedDict` in einen `String` umwandeln und \n",
    "3. Den Hashwert des `Strings` berechnen.  \n",
    "\n",
    "Es ist sinnvoll die beiden Schritte 2 und 3 in eine Funktion auszulagern, weil wir die beiden Schritte in genau dieser Form für sämtliche Bestandteile unserer Kryptowährung (z.B. Blocks) widerverwenden können. Schritt 1 wird innerhalb der Klasse `TransactionOutput` implementiert, da sich der Schritt zwischen den einzelnen Objekttypen unserer Kryptowährung jeweils unterscheidet.\n",
    "\n",
    "#### *Zusatzinfo: Defaultwerte der Parameter*\n",
    "Die Parameter, die in der Implemetierung einer Methode mit Default-Werten initialisiert werden, müssen immer am Ende der Parameterliste stehen."
   ]
  },
  {
   "cell_type": "code",
   "execution_count": 7,
   "metadata": {
    "collapsed": true
   },
   "outputs": [],
   "source": [
    "def hash_stuff(ordered_dict_of_stuff):\n",
    "    # Creates a SHA-256 hash of a the ordered_dict_of_stuff\n",
    "    \n",
    "    # Create a string representation of the ordered dict \n",
    "    # (via a json object)\n",
    "    stuff_string = json.dumps(ordered_dict_of_stuff).encode('utf8')\n",
    "    # Return the hexadecial 256 bit hash of the string\n",
    "    return hashlib.sha256(stuff_string).hexdigest()\n",
    "\n",
    "\n",
    "\n",
    "class TransactionOutput:\n",
    "    def __init__(self, recipient_public_key, value, random_val = None, id = None, timestamp = None):\n",
    "        # Timestamp is none if new output is created, \n",
    "        # not none if old one is referenced/recreated\n",
    "        if timestamp is None:\n",
    "            self.time = time()\n",
    "        else:\n",
    "            self.time = timestamp\n",
    "            \n",
    "        # We need the random_val so that each output is guaranteed to be unique, even for same t.\n",
    "        # I.e., in theory, if two TransactionOutputs (for the same recipient) \n",
    "        # are generated at the exact same time we still want to be able to distinguish them.\n",
    "        if random_val is None:\n",
    "            # self.random = 0\n",
    "            self.random = random.randint(0,10000000000000) \n",
    "        else:\n",
    "            # self.random = 0\n",
    "            self.random = random_val\n",
    "            \n",
    "        self.recipient = recipient_public_key # This defines the owner of the coins\n",
    "        self.value = value # Simply the value of the output\n",
    "        \n",
    "        # If it's a new transaction calculate the hash,\n",
    "        # if it's an existing one read the hash from the argument given at initialization.\n",
    "        if id is None:\n",
    "            self.id = hash_stuff(self.odict_transaction_output())\n",
    "        else:\n",
    "            self.id = id\n",
    "    \n",
    "    # A hash function needs some String as input. \n",
    "    # To get a String from a TO object (not the entire one)\n",
    "    # we use a OrderedDict representation which can be converted into a String.\n",
    "    def odict_transaction_output(self):\n",
    "        transaction_output_odict =  OrderedDict({\n",
    "                            'time' : self.time,\n",
    "                            'random' : self.random,\n",
    "                            'recipient' : self.recipient,\n",
    "                            'value': self.value\n",
    "                            })\n",
    "        return(transaction_output_odict)\n",
    "\n",
    "    def get_full_odict(self):\n",
    "        # We need this to get a full OrderedDict (incl. ID)\n",
    "        # representation of the TO in order to enable Transaction\n",
    "        # hashing on the Transaction level later on.\n",
    "        response = self.odict_transaction_output()\n",
    "        response['id'] = self.id\n",
    "        return response\n"
   ]
  },
  {
   "cell_type": "code",
   "execution_count": 8,
   "metadata": {},
   "outputs": [
    {
     "name": "stdout",
     "output_type": "stream",
     "text": [
      "b4393e7315463c4000a2cac15025ce6fce8db6ebf86574b570c588886867d4bd\n"
     ]
    }
   ],
   "source": [
    "# Testing it:\n",
    "# If you run this code multiple times, the output below should always change\n",
    "# Try setting self.random = 0 in the constructor and check if it still does \n",
    "# (it should due to the timestamp)\n",
    "transaction_output_to_alice = TransactionOutput(wallet_alice.public_key, 10)\n",
    "print(transaction_output_to_alice.id)"
   ]
  },
  {
   "cell_type": "code",
   "execution_count": 9,
   "metadata": {},
   "outputs": [
    {
     "name": "stdout",
     "output_type": "stream",
     "text": [
      "OrderedDict([('time', 1540485863.886085), ('random', 6108072526798), ('recipient', '3059301306072a8648ce3d020106082a8648ce3d030107034200044c75d5dbf799a85c0888752229a73ad15aec0bcddcd770a8c8d1e785f4cdbeec163828b09255d8d9560c526ef2d9c143f42da40e1ba8d5f6d72fa51fcb2b58b7'), ('value', 10), ('id', 'b4393e7315463c4000a2cac15025ce6fce8db6ebf86574b570c588886867d4bd')])\n"
     ]
    }
   ],
   "source": [
    "print(transaction_output_to_alice.get_full_odict())"
   ]
  },
  {
   "cell_type": "markdown",
   "metadata": {},
   "source": [
    "#### Transaction\n",
    "\n",
    "Zusätzlich zu den fundamentalen Bestandteilen, den Inputs und Outputs, wird in einer Transaktion auch noch die Idendität des Senders und eine Signatur gespeichert. Damit eine Transaktion gültig ist, muss die Summe der Inputs gleich der Summe der Outputs sein. Das bedeutet, wenn Bob eine Banane von Alice für 5 FC kauft und dies mit einem Input von 10 FC bezahlen will, so muss er für die Gültigkeit einer Transaktion die restlichen 5 FC wieder an sich selbst zurücküberweisen. \n",
    "<br/>Zusätzlich wird für die Gültigkeit einer Transaktion gefordert, dass alle Inputs zum Zeitpunkt der Aufnahmen in die Blockchain im Besitz des Senders sind und die Signatur mit der Idendität des Senders übereinstimmt.\n",
    "Da die Besitzverhältnisse der FC in der Blockchain erfasst werden, wir der die Besitzverhältnisse referenzierende Teil erst in der nächsten Veranstaltung ergänzt, da in dieser Veranstaltung dann auch die Blockchain eingeführt wird.\n"
   ]
  },
  {
   "cell_type": "code",
   "execution_count": 10,
   "metadata": {
    "collapsed": true
   },
   "outputs": [],
   "source": [
    "class Transaction:\n",
    "    def __init__(self, sender_pub_key, inputs, outputs, timestamp = None ,signature = None, transaction_id = None):\n",
    "        # Note: This is somehow smilar to the initialization\n",
    "        # of TransactionOutput, except of the fact that there \n",
    "        # are different 'fields' in the Transaction class.\n",
    "        if timestamp is None:\n",
    "            self.timestamp = time() #include, to not have a hash collision for similar transactions\n",
    "        else:\n",
    "            self.timestamp = timestamp\n",
    "        self.sender = sender_pub_key\n",
    "        self.inputs = inputs # list of IDs referring to UTXOs\n",
    "        self.outputs = outputs # OrderedDict with id:TransactionOutput\n",
    "        \n",
    "        # Signature and ID are (re)created when the transaction is signed\n",
    "        # Note: The coinbase transaction has no signature\n",
    "        if signature is None:\n",
    "            self.signature = ''\n",
    "        else:\n",
    "            self.signature = signature\n",
    "\n",
    "        if transaction_id is None:\n",
    "            self.id = self.hash_transaction()\n",
    "        else:\n",
    "            self.id = transaction_id\n",
    "\n",
    "    def odict_transaction(self):\n",
    "        # Create an OrderedDict representation\n",
    "        # We need this to sign it later on, therefore the \n",
    "        # signature is not included in the OrderedDict.\n",
    "    \n",
    "        outputs_odict = OrderedDict()\n",
    "        for output in self.outputs.values():\n",
    "            outputs_odict[output.id]=output.get_full_odict()\n",
    "        transaction_odict =  OrderedDict({\n",
    "                            'timestamp' : self.timestamp,\n",
    "                            'sender': self.sender,\n",
    "                            'inputs': self.inputs,\n",
    "                            'outputs': outputs_odict})\n",
    "        return(transaction_odict)\n",
    "\n",
    "    def hash_transaction(self):\n",
    "        # Creates a hash of the transaction\n",
    "        # We need this extra function since we have to\n",
    "        # add the signature to the OrderedDict object\n",
    "        # manually. Otherwise we could simply use the hash_stuff()\n",
    "        # from above directly.\n",
    "        \n",
    "        transaction_dict = self.odict_transaction()\n",
    "        transaction_dict['signature'] = self.signature\n",
    "        transaction_string = json.dumps(transaction_dict).encode()\n",
    "        return hashlib.sha256(transaction_string).hexdigest()\n",
    "\n",
    "    \n",
    "    def get_full_odict(self):\n",
    "        # We need this to get a full OrderedDict (incl. ID)\n",
    "        # rerepsentation of a Transaction to enable\n",
    "        # hashing of blocks on the block-level later on.\n",
    "        \n",
    "        response = self.odict_transaction()\n",
    "        response['signature'] = self.signature\n",
    "        response['id'] = self.id\n",
    "        return response\n",
    "    \n"
   ]
  },
  {
   "cell_type": "code",
   "execution_count": 11,
   "metadata": {},
   "outputs": [
    {
     "name": "stdout",
     "output_type": "stream",
     "text": [
      "OrderedDict([('timestamp', 1540485885.888886), ('sender', '3059301306072a8648ce3d020106082a8648ce3d030107034200044c75d5dbf799a85c0888752229a73ad15aec0bcddcd770a8c8d1e785f4cdbeec163828b09255d8d9560c526ef2d9c143f42da40e1ba8d5f6d72fa51fcb2b58b7'), ('inputs', ['b4393e7315463c4000a2cac15025ce6fce8db6ebf86574b570c588886867d4bd']), ('outputs', OrderedDict([('15dba39705775f79928acbc65c1d956c604a9ab3e7fc879aaaa6b354751f5b4c', OrderedDict([('time', 1540485885.888719), ('random', 2440267349715), ('recipient', '3059301306072a8648ce3d020106082a8648ce3d03010703420004a212c875e1f4a72ea51fb9a191d193f202f3e3a59f9bf817df3e427f826133328ea7d13c55ae154643fb3dfaf390472932e0b02143b2865027a013e70180d5d9'), ('value', 5), ('id', '15dba39705775f79928acbc65c1d956c604a9ab3e7fc879aaaa6b354751f5b4c')])), ('030f17f69b0a7daeabf6346e09fa81369cfffc82406f1d57ab647dd6a3bf4c9b', OrderedDict([('time', 1540485885.8887959), ('random', 9225901234913), ('recipient', '3059301306072a8648ce3d020106082a8648ce3d030107034200044c75d5dbf799a85c0888752229a73ad15aec0bcddcd770a8c8d1e785f4cdbeec163828b09255d8d9560c526ef2d9c143f42da40e1ba8d5f6d72fa51fcb2b58b7'), ('value', 5), ('id', '030f17f69b0a7daeabf6346e09fa81369cfffc82406f1d57ab647dd6a3bf4c9b')]))])), ('signature', ''), ('id', '98ed0bc829ce5f00521b74ae46b15ea3929cfddb1407a52124a790b9bca8a67e')])\n"
     ]
    }
   ],
   "source": [
    "# Testing the initialization part:\n",
    "# Idea: send coins from Alice to Bob, i.e., Alice buys a coffee \n",
    "# from Bob for 5 FC.\n",
    "# 1. We use the TO belonging to Alice from the \n",
    "# `transaction_output_to_alice` from above.\n",
    "# 2. We create two TOs with each 5 FC, one belonging to Bob\n",
    "# (price of the coffee) and the other one\n",
    "# belonging to Alice (change). \n",
    "# 3. We create an OrderedDict of theses two TOs with id:TO,\n",
    "# since this is the required input format for the transaction.\n",
    "# 4. We create the transaction.\n",
    "\n",
    "# Step 1.\n",
    "# Use `transaction_output_to_alice` created in previous test\n",
    "\n",
    "# Step 2\n",
    "transaction_output_to_bob = TransactionOutput(wallet_bob.public_key, 5)\n",
    "transaction_output_to_alice_2 = TransactionOutput(wallet_alice.public_key, 5)\n",
    "\n",
    "# Step 3.\n",
    "outputs_od = OrderedDict({transaction_output_to_bob.id:transaction_output_to_bob,\n",
    "                        transaction_output_to_alice_2.id: transaction_output_to_alice_2})\n",
    "\n",
    "# Step 4.\n",
    "transaction_alice_to_bob = Transaction(wallet_alice.public_key,\n",
    "                                       [transaction_output_to_alice.id],\n",
    "                                       outputs_od)\n",
    "\n",
    "print(transaction_alice_to_bob.get_full_odict())"
   ]
  },
  {
   "cell_type": "code",
   "execution_count": 16,
   "metadata": {
    "collapsed": true
   },
   "outputs": [],
   "source": [
    "%%add_to Transaction\n",
    "\n",
    "def sign_transaction(self, private_key):\n",
    "    # Sign a transaction using the private_key\n",
    "        \n",
    "    private_key = ECC.import_key(binascii.unhexlify(private_key))\n",
    "    signer = DSS.new(private_key,'fips-186-3')\n",
    "    h = SHA256.new(str(self.odict_transaction()).encode('utf8'))\n",
    "    self.signature = binascii.hexlify(signer.sign(h)).decode('utf8')\n",
    "    # When the signature is created the id can be set\n",
    "    self.id = self.hash_transaction()\n",
    "    return self.signature\n",
    "    \n",
    "def verify_transaction_signature(self):\n",
    "    # Check if the transaction signature is valid,\n",
    "    # i.e. does the signature match the Transaction object.\n",
    "    # Note: This might not make too much sense given the way we\n",
    "    # create transactions in this tutorial.\n",
    "    # But in case we get transaction data\n",
    "    # from a remote point, this is important!\n",
    "        \n",
    "    public_key = ECC.import_key(binascii.unhexlify(self.sender))\n",
    "    verifier = DSS.new(public_key,'fips-186-3')\n",
    "    h = SHA256.new(str(self.odict_transaction()).encode('utf8'))\n",
    "    try:\n",
    "        verifier.verify(h, binascii.unhexlify(self.signature))\n",
    "        return(True)\n",
    "    # In case the signature is not authentic, the verifier throws a ValueError\n",
    "    except ValueError:\n",
    "        return(False)\n",
    "\n",
    "def verify_transaction_id(self):\n",
    "    # Check if the id matched the Transaction content\n",
    "     \n",
    "    if self.id == self.hash_transaction():\n",
    "        return True\n",
    "\n",
    "    return False"
   ]
  },
  {
   "cell_type": "code",
   "execution_count": 17,
   "metadata": {},
   "outputs": [
    {
     "name": "stdout",
     "output_type": "stream",
     "text": [
      "98ed0bc829ce5f00521b74ae46b15ea3929cfddb1407a52124a790b9bca8a67e\n",
      "adfdd1e06c8c7df9b74acc77d16230f10c2e398fd24966dc0fc6b934b887ac3b\n",
      "True\n"
     ]
    }
   ],
   "source": [
    "# Testing the signature part (1):\n",
    "# Signing the Transaction using the right private_key (the one that coresponds\n",
    "# the sender's public key).\n",
    "# Note that the id of the Transaction changes as expected.\n",
    "\n",
    "print(transaction_alice_to_bob.id)\n",
    "transaction_alice_to_bob.sign_transaction(wallet_alice.private_key)\n",
    "print(transaction_alice_to_bob.id)\n",
    "# Verify the signature\n",
    "print(transaction_alice_to_bob.verify_transaction_signature())"
   ]
  },
  {
   "cell_type": "code",
   "execution_count": 18,
   "metadata": {},
   "outputs": [
    {
     "name": "stdout",
     "output_type": "stream",
     "text": [
      "adfdd1e06c8c7df9b74acc77d16230f10c2e398fd24966dc0fc6b934b887ac3b\n",
      "bba44c51b2359ed175dcaae7e3c35bf20f86da10a1e6b5b89a6f99cdbd316b1c\n",
      "False\n"
     ]
    }
   ],
   "source": [
    "# Testing the signature part (2):\n",
    "# Signing the Transaction using a wrong private_key.\n",
    "\n",
    "print(transaction_alice_to_bob.id)\n",
    "transaction_alice_to_bob.sign_transaction(wallet_bob.private_key)\n",
    "print(transaction_alice_to_bob.id)\n",
    "# Verify the signature --> This time it should return 'False'\n",
    "print(transaction_alice_to_bob.verify_transaction_signature())"
   ]
  },
  {
   "cell_type": "code",
   "execution_count": 19,
   "metadata": {},
   "outputs": [
    {
     "name": "stdout",
     "output_type": "stream",
     "text": [
      "True\n"
     ]
    }
   ],
   "source": [
    "# Testing the id part (1):\n",
    "# Sign it with the wrong signature \n",
    "# to get a wrong signature (for test reasons)\n",
    "transaction_alice_to_bob.sign_transaction(wallet_bob.private_key)\n",
    "id_with_wrong_signature = transaction_alice_to_bob.id\n",
    "\n",
    "# Sign it with the right signature and test the id (actually trivial):\n",
    "transaction_alice_to_bob.sign_transaction(wallet_alice.private_key)\n",
    "print(transaction_alice_to_bob.verify_transaction_id())"
   ]
  },
  {
   "cell_type": "code",
   "execution_count": 20,
   "metadata": {},
   "outputs": [
    {
     "name": "stdout",
     "output_type": "stream",
     "text": [
      "False\n"
     ]
    }
   ],
   "source": [
    "# Testing the id part (2):\n",
    "# Now assign the wrong id and test again:\n",
    "transaction_alice_to_bob.id = id_with_wrong_signature\n",
    "print(transaction_alice_to_bob.verify_transaction_id())"
   ]
  },
  {
   "cell_type": "markdown",
   "metadata": {},
   "source": [
    "## *Zusatz: Auslagerung abgeschlossener Programmteile*\n",
    "\n",
    "Um den Überblick über den Code nicht zu verlieren, macht es in vielen Fällen Sinn, mehr oder weniger abgeschlossene Abschnitte des Codes in eigene \\*.py Dateien auszulagern. Kleinere Änderungen am Code können auch in diesen Dateien durchgeführt werden. Um Programmcode zu testen, können wir auf die Klassen und Methoden in den ausgelagerten Dateien auch wieder über die jupyter Notebooks zugreifen. Bzgl. der Implementierung von FEDCoin gehen wir hierzu folgendermaßen vor:\n",
    "\n",
    "1. Erstelle mit einem Texteditor deiner Wahl (Sublime wird empfohlen) eine Datei `FEDCoin.py` im selben Verzeichnis wie dieses Notebook und kopiere dort zuerst die Importe aus der obersten Zelle dieses Notebooks hinein und füge zusätzlich noch folgenden Import hinzu: `from utils import *`.  Kopiere dann die jeweils fotgeschrittensten Implementierungen der Klassen `Wallet`, `TransactionOutput` und `Transaction` in diese Datei hinein.\n",
    "\n",
    "2. Erstelle eine zweite Datei mit dem Namen `utils.py` die zunächst nur die Funktion `hash_shuff()` und die für die Funktion notwendigen Importe (`hashlib`, `json`) beinhaltet.\n",
    "\n",
    "3. Importiere den Inhalt beider Dateien in ein jupyter Notebook und erzeuge z.B. ein neues Wallet damit. Um sämtliche Inhalte aus einer \\*.py Datei zu importieren, verwendet man einen Befehl à la `from FEDCoin import *` (siehe Beispiel unten).\n"
   ]
  },
  {
   "cell_type": "code",
   "execution_count": 21,
   "metadata": {},
   "outputs": [
    {
     "name": "stdout",
     "output_type": "stream",
     "text": [
      "3059301306072a8648ce3d020106082a8648ce3d03010703420004fe746e709b2f19952cf01209bd11ef0873da549145b58a4de96c8aac9826d596c97501dc593130a0ea7b2131c316367b291d5dc1f40ef84584cc365b3cc709aa\n",
      "\n",
      "\n",
      "80ce0e90c0b8d1a4e42e997a073c894b4d7a4cedc619885ec7a3ea8dbc282178\n"
     ]
    }
   ],
   "source": [
    "# Testing the import of code from *.py files in the same folder:\n",
    "# Note: To make sure that you don't use the cached classes\n",
    "# go to the menue bar of this notebook and select\n",
    "# --->Kernel--->Restart & Clear Output\n",
    "# Then run the code in this cell.\n",
    "\n",
    "from FEDCoin import *\n",
    "from utils import *\n",
    "\n",
    "wallet_peter = Wallet()\n",
    "print(wallet_peter.public_key)\n",
    "print(\"\\n\")\n",
    "\n",
    "test_od = OrderedDict({'bla':'blub'})\n",
    "print(hash_stuff(test_od))"
   ]
  }
 ],
 "metadata": {
  "kernelspec": {
   "display_name": "Python [conda env:fed_coin_v1]",
   "language": "python",
   "name": "conda-env-fed_coin_v1-py"
  },
  "language_info": {
   "codemirror_mode": {
    "name": "ipython",
    "version": 3
   },
   "file_extension": ".py",
   "mimetype": "text/x-python",
   "name": "python",
   "nbconvert_exporter": "python",
   "pygments_lexer": "ipython3",
   "version": "3.6.5"
  }
 },
 "nbformat": 4,
 "nbformat_minor": 2
}
